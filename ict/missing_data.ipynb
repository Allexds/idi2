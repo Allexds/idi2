{
 "cells": [
  {
   "cell_type": "markdown",
   "source": [
    "# Tarea 3.1\n",
    "Sustitución de datos faltantes\n",
    "Jorge Alejandro Díaz Sánchez"
   ],
   "metadata": {
    "collapsed": false
   }
  },
  {
   "cell_type": "code",
   "execution_count": 1,
   "metadata": {
    "collapsed": true
   },
   "outputs": [],
   "source": [
    "import pandas as pd\n",
    "import numpy as np"
   ]
  },
  {
   "cell_type": "code",
   "execution_count": 2,
   "outputs": [
    {
     "data": {
      "text/plain": "            x1             x2        x3        x4\n0     1.307150  Comida rápida  5.249548  2.790293\n1    18.422083       Mexicano  5.278007  3.330853\n2     7.729605       Italiano  7.403145  2.895753\n3    10.599776  Comida rápida  7.209577  3.393178\n4     5.612505          Chino  5.896599  2.901199\n..         ...            ...       ...       ...\n495   7.851055      Tailandés  4.159333  3.100521\n496  12.174165  Comida rápida  6.004050  2.917600\n497  10.984803       Italiano  6.017403  2.979846\n498   7.420852          Chino  7.327392  2.819767\n499   6.738492          Chino  5.898113  3.056515\n\n[500 rows x 4 columns]",
      "text/html": "<div>\n<style scoped>\n    .dataframe tbody tr th:only-of-type {\n        vertical-align: middle;\n    }\n\n    .dataframe tbody tr th {\n        vertical-align: top;\n    }\n\n    .dataframe thead th {\n        text-align: right;\n    }\n</style>\n<table border=\"1\" class=\"dataframe\">\n  <thead>\n    <tr style=\"text-align: right;\">\n      <th></th>\n      <th>x1</th>\n      <th>x2</th>\n      <th>x3</th>\n      <th>x4</th>\n    </tr>\n  </thead>\n  <tbody>\n    <tr>\n      <th>0</th>\n      <td>1.307150</td>\n      <td>Comida rápida</td>\n      <td>5.249548</td>\n      <td>2.790293</td>\n    </tr>\n    <tr>\n      <th>1</th>\n      <td>18.422083</td>\n      <td>Mexicano</td>\n      <td>5.278007</td>\n      <td>3.330853</td>\n    </tr>\n    <tr>\n      <th>2</th>\n      <td>7.729605</td>\n      <td>Italiano</td>\n      <td>7.403145</td>\n      <td>2.895753</td>\n    </tr>\n    <tr>\n      <th>3</th>\n      <td>10.599776</td>\n      <td>Comida rápida</td>\n      <td>7.209577</td>\n      <td>3.393178</td>\n    </tr>\n    <tr>\n      <th>4</th>\n      <td>5.612505</td>\n      <td>Chino</td>\n      <td>5.896599</td>\n      <td>2.901199</td>\n    </tr>\n    <tr>\n      <th>...</th>\n      <td>...</td>\n      <td>...</td>\n      <td>...</td>\n      <td>...</td>\n    </tr>\n    <tr>\n      <th>495</th>\n      <td>7.851055</td>\n      <td>Tailandés</td>\n      <td>4.159333</td>\n      <td>3.100521</td>\n    </tr>\n    <tr>\n      <th>496</th>\n      <td>12.174165</td>\n      <td>Comida rápida</td>\n      <td>6.004050</td>\n      <td>2.917600</td>\n    </tr>\n    <tr>\n      <th>497</th>\n      <td>10.984803</td>\n      <td>Italiano</td>\n      <td>6.017403</td>\n      <td>2.979846</td>\n    </tr>\n    <tr>\n      <th>498</th>\n      <td>7.420852</td>\n      <td>Chino</td>\n      <td>7.327392</td>\n      <td>2.819767</td>\n    </tr>\n    <tr>\n      <th>499</th>\n      <td>6.738492</td>\n      <td>Chino</td>\n      <td>5.898113</td>\n      <td>3.056515</td>\n    </tr>\n  </tbody>\n</table>\n<p>500 rows × 4 columns</p>\n</div>"
     },
     "execution_count": 2,
     "metadata": {},
     "output_type": "execute_result"
    }
   ],
   "source": [
    "df = pd.read_csv(\"tratamiento_de_valores_faltantes.csv\")\n",
    "df"
   ],
   "metadata": {
    "collapsed": false
   }
  },
  {
   "cell_type": "code",
   "execution_count": 3,
   "outputs": [
    {
     "data": {
      "text/plain": "x1    18\nx2    20\nx3    14\nx4    17\ndtype: int64"
     },
     "execution_count": 3,
     "metadata": {},
     "output_type": "execute_result"
    }
   ],
   "source": [
    "df.isna().sum()"
   ],
   "metadata": {
    "collapsed": false
   }
  },
  {
   "cell_type": "markdown",
   "source": [
    "## Datos faltantes\n",
    "Existen datos faltantes en cada una de las cuatro variables faltantes."
   ],
   "metadata": {
    "collapsed": false
   }
  },
  {
   "cell_type": "markdown",
   "source": [
    "### Tratamiento para $x_1$\n",
    "Se observa la distribución y kurtosis de x1"
   ],
   "metadata": {
    "collapsed": false
   }
  },
  {
   "cell_type": "code",
   "execution_count": 4,
   "outputs": [
    {
     "data": {
      "text/plain": "<AxesSubplot:>"
     },
     "execution_count": 4,
     "metadata": {},
     "output_type": "execute_result"
    },
    {
     "data": {
      "text/plain": "<Figure size 432x288 with 1 Axes>",
      "image/png": "[encoded data removed]"
     },
     "metadata": {
      "needs_background": "light"
     },
     "output_type": "display_data"
    }
   ],
   "source": [
    "df[\"x1\"].hist()"
   ],
   "metadata": {
    "collapsed": false
   }
  },
  {
   "cell_type": "code",
   "execution_count": 5,
   "outputs": [
    {
     "data": {
      "text/plain": "3.157644127799247"
     },
     "execution_count": 5,
     "metadata": {},
     "output_type": "execute_result"
    }
   ],
   "source": [
    "df.x1.kurtosis()"
   ],
   "metadata": {
    "collapsed": false
   }
  },
  {
   "cell_type": "code",
   "execution_count": 6,
   "outputs": [
    {
     "data": {
      "text/plain": "<AxesSubplot:>"
     },
     "execution_count": 6,
     "metadata": {},
     "output_type": "execute_result"
    },
    {
     "data": {
      "text/plain": "<Figure size 432x288 with 1 Axes>",
      "image/png": "[encoded data removed]"
     },
     "metadata": {
      "needs_background": "light"
     },
     "output_type": "display_data"
    }
   ],
   "source": [
    "df.boxplot(\"x1\")\n"
   ],
   "metadata": {
    "collapsed": false
   }
  },
  {
   "cell_type": "markdown",
   "source": [
    "Con esta distribución podemos ver cierta forma normal, con una alta kurtosis, y valores atípicos. Dados estos valores atípicos, lo mejor probablemente será usar la mediana para reemplazar los datos faltantes:"
   ],
   "metadata": {
    "collapsed": false
   }
  },
  {
   "cell_type": "code",
   "execution_count": 7,
   "outputs": [
    {
     "data": {
      "text/plain": "count    482.000000\nmean      11.946714\nstd        5.519551\nmin      -11.866135\n25%        8.513927\n50%       11.997242\n75%       15.061229\nmax       36.922954\nName: x1, dtype: float64"
     },
     "execution_count": 7,
     "metadata": {},
     "output_type": "execute_result"
    }
   ],
   "source": [
    "df[\"x1\"].describe()"
   ],
   "metadata": {
    "collapsed": false
   }
  },
  {
   "cell_type": "code",
   "execution_count": 8,
   "outputs": [
    {
     "data": {
      "text/plain": "x1     0\nx2    20\nx3    14\nx4    17\ndtype: int64"
     },
     "execution_count": 8,
     "metadata": {},
     "output_type": "execute_result"
    }
   ],
   "source": [
    "# Usemos la mediana (Mediana de 11.997242)\n",
    "median = df['x1'].median()\n",
    "df['x1'].fillna(median, inplace=True)\n",
    "df.isna().sum()"
   ],
   "metadata": {
    "collapsed": false
   }
  },
  {
   "cell_type": "code",
   "execution_count": 9,
   "outputs": [
    {
     "data": {
      "text/plain": "11.997241740674525"
     },
     "execution_count": 9,
     "metadata": {},
     "output_type": "execute_result"
    }
   ],
   "source": [
    "df[\"x1\"].median() # No se ve afectada."
   ],
   "metadata": {
    "collapsed": false
   }
  },
  {
   "cell_type": "markdown",
   "source": [
    "### Tratamiento para $x_2$\n",
    "Dado que $x_2$ es una variable categórica, analicemos su moda, y sustituyamos con esta moda."
   ],
   "metadata": {
    "collapsed": false
   }
  },
  {
   "cell_type": "code",
   "execution_count": 9,
   "outputs": [],
   "source": [],
   "metadata": {
    "collapsed": false
   }
  },
  {
   "cell_type": "code",
   "execution_count": 10,
   "outputs": [
    {
     "data": {
      "text/plain": "'Mexicano'"
     },
     "execution_count": 10,
     "metadata": {},
     "output_type": "execute_result"
    }
   ],
   "source": [
    "mode, = df[\"x2\"].mode()\n",
    "mode"
   ],
   "metadata": {
    "collapsed": false
   }
  },
  {
   "cell_type": "code",
   "execution_count": 11,
   "outputs": [
    {
     "data": {
      "text/plain": "0      Comida rápida\n1           Mexicano\n2           Italiano\n3      Comida rápida\n4              Chino\n           ...      \n495        Tailandés\n496    Comida rápida\n497         Italiano\n498            Chino\n499            Chino\nName: x2, Length: 500, dtype: object"
     },
     "execution_count": 11,
     "metadata": {},
     "output_type": "execute_result"
    }
   ],
   "source": [
    "# Dado que la moda para x2 es \"Mexicano\", reemplacemos datos faltantes con Mexicano.\n",
    "df['x2'].fillna(mode, inplace=True)\n",
    "df['x2']"
   ],
   "metadata": {
    "collapsed": false
   }
  },
  {
   "cell_type": "code",
   "execution_count": 12,
   "outputs": [
    {
     "data": {
      "text/plain": "x1     0\nx2     0\nx3    14\nx4    17\ndtype: int64"
     },
     "execution_count": 12,
     "metadata": {},
     "output_type": "execute_result"
    }
   ],
   "source": [
    "df.isna().sum()"
   ],
   "metadata": {
    "collapsed": false
   }
  },
  {
   "cell_type": "code",
   "execution_count": 13,
   "outputs": [
    {
     "data": {
      "text/plain": "0    Mexicano\nName: x2, dtype: object"
     },
     "execution_count": 13,
     "metadata": {},
     "output_type": "execute_result"
    }
   ],
   "source": [
    "df['x2'].mode() # No se ve afectada"
   ],
   "metadata": {
    "collapsed": false
   }
  },
  {
   "cell_type": "markdown",
   "source": [
    "### Tratamiento para $x_3$\n",
    "\n",
    "$x_3$ es una variable contínua, analicemos su distribución:\n"
   ],
   "metadata": {
    "collapsed": false
   }
  },
  {
   "cell_type": "code",
   "execution_count": 14,
   "outputs": [
    {
     "data": {
      "text/plain": "<AxesSubplot:>"
     },
     "execution_count": 14,
     "metadata": {},
     "output_type": "execute_result"
    },
    {
     "data": {
      "text/plain": "<Figure size 432x288 with 1 Axes>",
      "image/png": "[encoded data removed]"
     },
     "metadata": {
      "needs_background": "light"
     },
     "output_type": "display_data"
    }
   ],
   "source": [
    "df[\"x3\"].hist()"
   ],
   "metadata": {
    "collapsed": false
   }
  },
  {
   "cell_type": "code",
   "execution_count": 15,
   "outputs": [
    {
     "data": {
      "text/plain": "-1.2603082637679541"
     },
     "execution_count": 15,
     "metadata": {},
     "output_type": "execute_result"
    }
   ],
   "source": [
    "df[\"x3\"].kurtosis()"
   ],
   "metadata": {
    "collapsed": false
   }
  },
  {
   "cell_type": "markdown",
   "source": [
    "Con una kurtosis tan baja (menor a -1.2), se considera una distribución uniforme.\n",
    "Por lo que se tendrá que usar una sustitución aleatoria."
   ],
   "metadata": {
    "collapsed": false
   }
  },
  {
   "cell_type": "code",
   "execution_count": 16,
   "outputs": [
    {
     "data": {
      "text/plain": "14"
     },
     "execution_count": 16,
     "metadata": {},
     "output_type": "execute_result"
    }
   ],
   "source": [
    "# Veamos cuántos datos faltantes hay y guardemos sus posiciones:\n",
    "missing, = np.where(df.x3.isna())\n",
    "len(missing)\n"
   ],
   "metadata": {
    "collapsed": false
   }
  },
  {
   "cell_type": "code",
   "execution_count": 17,
   "outputs": [
    {
     "data": {
      "text/plain": "486"
     },
     "execution_count": 17,
     "metadata": {},
     "output_type": "execute_result"
    }
   ],
   "source": [
    "# Apartemos los datos que sí están completos (válidos):\n",
    "valid = df.x3[df.x3.notna()]\n",
    "len(valid)"
   ],
   "metadata": {
    "collapsed": false
   }
  },
  {
   "cell_type": "code",
   "execution_count": 18,
   "outputs": [
    {
     "data": {
      "text/plain": "array([378, 403, 127, 178,  97, 306, 399, 398, 444, 290,   5, 323,  62,\n       231])"
     },
     "execution_count": 18,
     "metadata": {},
     "output_type": "execute_result"
    }
   ],
   "source": [
    "# Se eligen 14 valores aleatorios dentro de los datos válidos\n",
    "new_vals = np.random.randint(1, len(valid), len(missing))\n",
    "new_vals"
   ],
   "metadata": {
    "collapsed": false
   }
  },
  {
   "cell_type": "code",
   "execution_count": 19,
   "outputs": [
    {
     "name": "stderr",
     "output_type": "stream",
     "text": [
      "/var/folders/51/l057c8xx2md597vhk47n57rm0000gn/T/ipykernel_23779/408195769.py:2: SettingWithCopyWarning: \n",
      "A value is trying to be set on a copy of a slice from a DataFrame\n",
      "\n",
      "See the caveats in the documentation: https://pandas.pydata.org/pandas-docs/stable/user_guide/indexing.html#returning-a-view-versus-a-copy\n",
      "  df['x3'].loc[missing] = valid.iloc[new_vals].values\n"
     ]
    },
    {
     "data": {
      "text/plain": "378    4.063302\n403    4.628271\n127    5.777499\n178    6.337388\n97     7.694994\n306    7.728366\n399    7.061122\n398    6.162329\n444    4.255196\n290    7.141680\n5      4.605607\n323    6.192521\n62     4.635577\n231    4.843168\nName: x3, dtype: float64"
     },
     "execution_count": 19,
     "metadata": {},
     "output_type": "execute_result"
    }
   ],
   "source": [
    "# Ahora se reemplazan\n",
    "df['x3'].loc[missing] = valid.iloc[new_vals].values\n",
    "df['x3'].loc[new_vals]"
   ],
   "metadata": {
    "collapsed": false
   }
  },
  {
   "cell_type": "code",
   "execution_count": 20,
   "outputs": [
    {
     "data": {
      "text/plain": "x1     0\nx2     0\nx3     0\nx4    17\ndtype: int64"
     },
     "execution_count": 20,
     "metadata": {},
     "output_type": "execute_result"
    }
   ],
   "source": [
    "df.isna().sum()"
   ],
   "metadata": {
    "collapsed": false
   }
  },
  {
   "cell_type": "markdown",
   "source": [
    "### Tratamiento para $x_4$\n",
    "$x_4$ también es cuantitativa, analicemos su distribución"
   ],
   "metadata": {
    "collapsed": false
   }
  },
  {
   "cell_type": "code",
   "execution_count": 21,
   "outputs": [
    {
     "data": {
      "text/plain": "<AxesSubplot:>"
     },
     "execution_count": 21,
     "metadata": {},
     "output_type": "execute_result"
    },
    {
     "data": {
      "text/plain": "<Figure size 432x288 with 1 Axes>",
      "image/png": "[encoded data removed]"
     },
     "metadata": {
      "needs_background": "light"
     },
     "output_type": "display_data"
    }
   ],
   "source": [
    "df['x4'].hist()"
   ],
   "metadata": {
    "collapsed": false
   }
  },
  {
   "cell_type": "code",
   "execution_count": 30,
   "outputs": [
    {
     "data": {
      "text/plain": "-0.29078117515223445"
     },
     "execution_count": 30,
     "metadata": {},
     "output_type": "execute_result"
    }
   ],
   "source": [
    "df[\"x4\"].kurt()"
   ],
   "metadata": {
    "collapsed": false
   }
  },
  {
   "cell_type": "code",
   "execution_count": 31,
   "outputs": [
    {
     "data": {
      "text/plain": "<AxesSubplot:>"
     },
     "execution_count": 31,
     "metadata": {},
     "output_type": "execute_result"
    },
    {
     "data": {
      "text/plain": "<Figure size 432x288 with 1 Axes>",
      "image/png": "[encoded data removed]"
     },
     "metadata": {
      "needs_background": "light"
     },
     "output_type": "display_data"
    }
   ],
   "source": [
    "df.boxplot(\"x4\")"
   ],
   "metadata": {
    "collapsed": false
   }
  },
  {
   "cell_type": "markdown",
   "source": [
    "Esta distribución para ser normal, y no se encuentran valores atípicos, por lo que se usará la media."
   ],
   "metadata": {
    "collapsed": false
   }
  },
  {
   "cell_type": "code",
   "execution_count": 34,
   "outputs": [
    {
     "data": {
      "text/plain": "3.0037859880503586"
     },
     "execution_count": 34,
     "metadata": {},
     "output_type": "execute_result"
    }
   ],
   "source": [
    "# Veamos la media\n",
    "mean = df[\"x4\"].mean()\n",
    "mean"
   ],
   "metadata": {
    "collapsed": false
   }
  },
  {
   "cell_type": "code",
   "execution_count": 35,
   "outputs": [
    {
     "data": {
      "text/plain": "0      2.790293\n1      3.330853\n2      2.895753\n3      3.393178\n4      2.901199\n         ...   \n495    3.100521\n496    2.917600\n497    2.979846\n498    2.819767\n499    3.056515\nName: x4, Length: 500, dtype: float64"
     },
     "execution_count": 35,
     "metadata": {},
     "output_type": "execute_result"
    }
   ],
   "source": [
    "# Se usará esta media para reemplazar los valores faltantes\n",
    "df['x4'].fillna(mean, inplace=True)\n",
    "df['x4']"
   ],
   "metadata": {
    "collapsed": false
   }
  },
  {
   "cell_type": "code",
   "execution_count": 38,
   "outputs": [
    {
     "data": {
      "text/plain": "3.003785988050361"
     },
     "execution_count": 38,
     "metadata": {},
     "output_type": "execute_result"
    }
   ],
   "source": [
    "df.x4.mean()  # No se ve tan alterada"
   ],
   "metadata": {
    "collapsed": false
   }
  },
  {
   "cell_type": "markdown",
   "source": [
    "## Verificación"
   ],
   "metadata": {
    "collapsed": false
   }
  },
  {
   "cell_type": "code",
   "execution_count": 40,
   "outputs": [
    {
     "data": {
      "text/plain": "x1    0\nx2    0\nx3    0\nx4    0\ndtype: int64"
     },
     "execution_count": 40,
     "metadata": {},
     "output_type": "execute_result"
    }
   ],
   "source": [
    "# veamos que ya no hay valores faltantes:\n",
    "df.isna().sum()"
   ],
   "metadata": {
    "collapsed": false
   }
  }
 ],
 "metadata": {
  "kernelspec": {
   "display_name": "Python 3",
   "language": "python",
   "name": "python3"
  },
  "language_info": {
   "codemirror_mode": {
    "name": "ipython",
    "version": 2
   },
   "file_extension": ".py",
   "mimetype": "text/x-python",
   "name": "python",
   "nbconvert_exporter": "python",
   "pygments_lexer": "ipython2",
   "version": "2.7.6"
  }
 },
 "nbformat": 4,
 "nbformat_minor": 0
}
